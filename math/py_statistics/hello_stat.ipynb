{
 "metadata": {
  "language_info": {
   "codemirror_mode": {
    "name": "ipython",
    "version": 3
   },
   "file_extension": ".py",
   "mimetype": "text/x-python",
   "name": "python",
   "nbconvert_exporter": "python",
   "pygments_lexer": "ipython3",
   "version": 3
  },
  "orig_nbformat": 2,
  "kernelspec": {
   "name": "python_defaultSpec_1595105532099",
   "display_name": "Python 3.8.2 64-bit ('family_course': venv)"
  }
 },
 "nbformat": 4,
 "nbformat_minor": 2,
 "cells": [
  {
   "cell_type": "code",
   "execution_count": 1,
   "metadata": {},
   "outputs": [],
   "source": [
    "data = [80,90,50,60,81,70,54,51,52,44]"
   ]
  },
  {
   "cell_type": "markdown",
   "metadata": {},
   "source": [
    "# our stat code"
   ]
  },
  {
   "cell_type": "code",
   "execution_count": null,
   "metadata": {
    "tags": []
   },
   "outputs": [],
   "source": [
    "my_sum = 0\n",
    "for item in data:\n",
    "    my_sum = my_sum + item\n",
    "mean = my_sum / len(data)\n",
    "print (mean)"
   ]
  },
  {
   "cell_type": "markdown",
   "metadata": {},
   "source": [
    "## Find min value in list"
   ]
  },
  {
   "cell_type": "code",
   "execution_count": 127,
   "metadata": {
    "tags": []
   },
   "outputs": [
    {
     "output_type": "stream",
     "name": "stdout",
     "text": "90\n"
    }
   ],
   "source": [
    "x=data[0]\n",
    "for item in data:\n",
    "    if item>x:\n",
    "        x=item\n",
    "print(x)\n"
   ]
  },
  {
   "cell_type": "markdown",
   "metadata": {},
   "source": [
    "## Using builtin python function"
   ]
  },
  {
   "cell_type": "code",
   "execution_count": null,
   "metadata": {},
   "outputs": [],
   "source": [
    "min(data)"
   ]
  },
  {
   "cell_type": "markdown",
   "metadata": {},
   "source": [
    "# Base on python builtin method"
   ]
  },
  {
   "cell_type": "code",
   "execution_count": null,
   "metadata": {},
   "outputs": [],
   "source": [
    "max(data)"
   ]
  },
  {
   "cell_type": "code",
   "execution_count": null,
   "metadata": {
    "tags": []
   },
   "outputs": [],
   "source": [
    "marks = sum(data)\n",
    "mean = marks / len(data)\n",
    "print (mean)"
   ]
  },
  {
   "cell_type": "markdown",
   "metadata": {},
   "source": [
    "# using library"
   ]
  },
  {
   "cell_type": "code",
   "execution_count": 4,
   "metadata": {
    "tags": []
   },
   "outputs": [
    {
     "output_type": "stream",
     "name": "stdout",
     "text": "63.2\n"
    }
   ],
   "source": [
    "import statistics \n",
    "x = statistics.mean(data)\n",
    "print(x)"
   ]
  },
  {
   "cell_type": "code",
   "execution_count": null,
   "metadata": {},
   "outputs": [],
   "source": [
    "dir(statistics)"
   ]
  },
  {
   "cell_type": "markdown",
   "metadata": {},
   "source": [
    "![](mmm.png)\n",
    "\n",
    "# Median\n",
    "The middle number in set of order nubmbers"
   ]
  },
  {
   "cell_type": "code",
   "execution_count": 121,
   "metadata": {
    "tags": []
   },
   "outputs": [
    {
     "output_type": "stream",
     "name": "stdout",
     "text": "57.0\n"
    }
   ],
   "source": [
    "median=None\n",
    "data.sort()\n",
    "n = len(data)\n",
    "if n % 2:\n",
    "    #even\n",
    "    i = int(n/2)\n",
    "    median = int(data[i])\n",
    "else:\n",
    "    #odd\n",
    "    pos = int(n/2)\n",
    "    n1 = data[pos-1]\n",
    "    n2 = data[pos]\n",
    "    median = (n1+n2)/2\n",
    "print(median)"
   ]
  },
  {
   "cell_type": "code",
   "execution_count": 116,
   "metadata": {},
   "outputs": [
    {
     "output_type": "execute_result",
     "data": {
      "text/plain": "57.0"
     },
     "metadata": {},
     "execution_count": 116
    }
   ],
   "source": [
    "statistics.median(data)"
   ]
  },
  {
   "cell_type": "code",
   "execution_count": null,
   "metadata": {
    "tags": []
   },
   "outputs": [],
   "source": [
    "n=4\n",
    "result = n % 2\n",
    "print(result)\n",
    "print(bool(n%2))"
   ]
  },
  {
   "cell_type": "markdown",
   "metadata": {},
   "source": [
    "# Mode"
   ]
  },
  {
   "cell_type": "code",
   "execution_count": 2,
   "metadata": {
    "tags": []
   },
   "outputs": [
    {
     "output_type": "stream",
     "name": "stdout",
     "text": "list has no mode\n"
    }
   ],
   "source": [
    "NO_MODE = 1\n",
    "summary = {}\n",
    "for item in data:\n",
    "    if item in summary:\n",
    "        summary[item] = summary[item]+1\n",
    "    else:\n",
    "        summary[item] = 1\n",
    "mode_v = 1\n",
    "mode_k = None\n",
    "for k,v in summary.items():\n",
    "    if v>mode_v:\n",
    "       mode_v = v\n",
    "       mode_k = k\n",
    "if mode_v == NO_MODE:\n",
    "    print(\"list has no mode\")\n",
    "else:\n",
    "    print(f\"the value: {mode_k} appear {mode_v} times\")\n"
   ]
  },
  {
   "cell_type": "code",
   "execution_count": 5,
   "metadata": {},
   "outputs": [
    {
     "output_type": "execute_result",
     "data": {
      "text/plain": "80"
     },
     "metadata": {},
     "execution_count": 5
    }
   ],
   "source": [
    "statistics.mode(data)"
   ]
  },
  {
   "cell_type": "code",
   "execution_count": null,
   "metadata": {},
   "outputs": [],
   "source": []
  }
 ]
}